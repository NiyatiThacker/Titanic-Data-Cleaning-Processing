{
 "cells": [
  {
   "cell_type": "code",
   "execution_count": 1,
   "id": "97e34c18",
   "metadata": {},
   "outputs": [
    {
     "name": "stdout",
     "output_type": "stream",
     "text": [
      "   PassengerId  Survived  Pclass  \\\n",
      "0            1         0       3   \n",
      "1            2         1       1   \n",
      "2            3         1       3   \n",
      "3            4         1       1   \n",
      "4            5         0       3   \n",
      "\n",
      "                                                Name     Sex   Age  SibSp  \\\n",
      "0                            Braund, Mr. Owen Harris    male  22.0      1   \n",
      "1  Cumings, Mrs. John Bradley (Florence Briggs Th...  female  38.0      1   \n",
      "2                             Heikkinen, Miss. Laina  female  26.0      0   \n",
      "3       Futrelle, Mrs. Jacques Heath (Lily May Peel)  female  35.0      1   \n",
      "4                           Allen, Mr. William Henry    male  35.0      0   \n",
      "\n",
      "   Parch            Ticket     Fare    Cabin Embarked  \n",
      "0      0         A/5 21171   7.2500  Unknown        S  \n",
      "1      0          PC 17599  71.2833      C85        C  \n",
      "2      0  STON/O2. 3101282   7.9250  Unknown        S  \n",
      "3      0            113803  53.1000     C123        S  \n",
      "4      0            373450   8.0500  Unknown        S  \n"
     ]
    }
   ],
   "source": [
    "import pandas as pd\n",
    "df = pd.read_csv('Titanic_cleaned.csv')\n",
    "print(df.head())\n"
   ]
  },
  {
   "cell_type": "code",
   "execution_count": 2,
   "id": "80a7e59e",
   "metadata": {},
   "outputs": [],
   "source": [
    "df['Sex'] = df['Sex'].map({'male': 1, 'female': 0})\n"
   ]
  },
  {
   "cell_type": "code",
   "execution_count": 3,
   "id": "54954723",
   "metadata": {},
   "outputs": [],
   "source": [
    "df = pd.get_dummies(df, columns=['Embarked'], drop_first=True)\n"
   ]
  },
  {
   "cell_type": "code",
   "execution_count": 4,
   "id": "6fc57f49",
   "metadata": {},
   "outputs": [],
   "source": [
    "df['Deck'] = df['Cabin'].astype(str).str[0]\n",
    "df = pd.get_dummies(df, columns=['Deck'], drop_first=True)"
   ]
  },
  {
   "cell_type": "code",
   "execution_count": 5,
   "id": "3f20d0ce",
   "metadata": {},
   "outputs": [
    {
     "name": "stdout",
     "output_type": "stream",
     "text": [
      "   PassengerId  Survived  Pclass  \\\n",
      "0            1         0       3   \n",
      "1            2         1       1   \n",
      "2            3         1       3   \n",
      "3            4         1       1   \n",
      "4            5         0       3   \n",
      "\n",
      "                                                Name  Sex   Age  SibSp  Parch  \\\n",
      "0                            Braund, Mr. Owen Harris    1  22.0      1      0   \n",
      "1  Cumings, Mrs. John Bradley (Florence Briggs Th...    0  38.0      1      0   \n",
      "2                             Heikkinen, Miss. Laina    0  26.0      0      0   \n",
      "3       Futrelle, Mrs. Jacques Heath (Lily May Peel)    0  35.0      1      0   \n",
      "4                           Allen, Mr. William Henry    1  35.0      0      0   \n",
      "\n",
      "             Ticket     Fare  ... Embarked_Q  Embarked_S  Deck_B  Deck_C  \\\n",
      "0         A/5 21171   7.2500  ...      False        True   False   False   \n",
      "1          PC 17599  71.2833  ...      False       False   False    True   \n",
      "2  STON/O2. 3101282   7.9250  ...      False        True   False   False   \n",
      "3            113803  53.1000  ...      False        True   False    True   \n",
      "4            373450   8.0500  ...      False        True   False   False   \n",
      "\n",
      "   Deck_D  Deck_E  Deck_F  Deck_G  Deck_T  Deck_U  \n",
      "0   False   False   False   False   False    True  \n",
      "1   False   False   False   False   False   False  \n",
      "2   False   False   False   False   False    True  \n",
      "3   False   False   False   False   False   False  \n",
      "4   False   False   False   False   False    True  \n",
      "\n",
      "[5 rows x 21 columns]\n",
      "<class 'pandas.core.frame.DataFrame'>\n",
      "RangeIndex: 891 entries, 0 to 890\n",
      "Data columns (total 21 columns):\n",
      " #   Column       Non-Null Count  Dtype  \n",
      "---  ------       --------------  -----  \n",
      " 0   PassengerId  891 non-null    int64  \n",
      " 1   Survived     891 non-null    int64  \n",
      " 2   Pclass       891 non-null    int64  \n",
      " 3   Name         891 non-null    object \n",
      " 4   Sex          891 non-null    int64  \n",
      " 5   Age          891 non-null    float64\n",
      " 6   SibSp        891 non-null    int64  \n",
      " 7   Parch        891 non-null    int64  \n",
      " 8   Ticket       891 non-null    object \n",
      " 9   Fare         891 non-null    float64\n",
      " 10  Cabin        891 non-null    object \n",
      " 11  Embarked_Q   891 non-null    bool   \n",
      " 12  Embarked_S   891 non-null    bool   \n",
      " 13  Deck_B       891 non-null    bool   \n",
      " 14  Deck_C       891 non-null    bool   \n",
      " 15  Deck_D       891 non-null    bool   \n",
      " 16  Deck_E       891 non-null    bool   \n",
      " 17  Deck_F       891 non-null    bool   \n",
      " 18  Deck_G       891 non-null    bool   \n",
      " 19  Deck_T       891 non-null    bool   \n",
      " 20  Deck_U       891 non-null    bool   \n",
      "dtypes: bool(10), float64(2), int64(6), object(3)\n",
      "memory usage: 85.4+ KB\n",
      "None\n"
     ]
    }
   ],
   "source": [
    "print(df.head())\n",
    "print(df.info())\n"
   ]
  },
  {
   "cell_type": "code",
   "execution_count": 6,
   "id": "c78f5b9e",
   "metadata": {},
   "outputs": [],
   "source": [
    "df.to_csv('Titanic_encoded.csv', index=False)\n"
   ]
  },
  {
   "cell_type": "markdown",
   "id": "1231eafe",
   "metadata": {},
   "source": [
    "\n",
    "## ✅ Conclusion\n",
    "\n",
    "In this notebook, we encoded all relevant categorical features into numerical format.  \n",
    "We used Label Encoding for binary variables like `Sex`, and One-Hot Encoding for multi-category features such as `Embarked` and `Pclass`.\n",
    "\n",
    "This step ensures that our machine learning models can correctly interpret categorical information.\n"
   ]
  }
 ],
 "metadata": {
  "kernelspec": {
   "display_name": "Python 3",
   "language": "python",
   "name": "python3"
  },
  "language_info": {
   "codemirror_mode": {
    "name": "ipython",
    "version": 3
   },
   "file_extension": ".py",
   "mimetype": "text/x-python",
   "name": "python",
   "nbconvert_exporter": "python",
   "pygments_lexer": "ipython3",
   "version": "3.12.9"
  }
 },
 "nbformat": 4,
 "nbformat_minor": 5
}
